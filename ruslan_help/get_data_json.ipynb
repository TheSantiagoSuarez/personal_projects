{
 "cells": [
  {
   "cell_type": "code",
   "execution_count": 9,
   "metadata": {},
   "outputs": [],
   "source": [
    "import json\n",
    "import pandas as pd\n",
    "import os"
   ]
  },
  {
   "cell_type": "code",
   "execution_count": 18,
   "metadata": {},
   "outputs": [
    {
     "data": {
      "text/plain": [
       "b'240815_174104_FP.json'"
      ]
     },
     "execution_count": 18,
     "metadata": {},
     "output_type": "execute_result"
    }
   ],
   "source": [
    "os.fsencode(\"240815_174104_FP.json\")"
   ]
  },
  {
   "cell_type": "code",
   "execution_count": 59,
   "metadata": {},
   "outputs": [
    {
     "name": "stdout",
     "output_type": "stream",
     "text": [
      "240808_223545_FP.json\n",
      "240808_223657_FP.json\n",
      "240808_223806_FP.json\n",
      "240809_044239_FP.json\n",
      "240812_105829_FP.json\n",
      "240813_212646_FP.json\n",
      "240814_004905_FP.json\n",
      "240814_011844_FP.json\n",
      "240814_113055_FP.json\n",
      "240814_115506_FP.json\n",
      "240814_120315_FP.json\n",
      "240814_132851_FP.json\n",
      "240814_144646_FP.json\n",
      "240814_191620_FP.json\n",
      "240814_200259_FP.json\n",
      "240815_140222_FP.json\n",
      "240815_143040_FP.json\n",
      "240815_161439_FP.json\n",
      "240815_170214_FP.json\n",
      "240815_170546_FP.json\n",
      "240815_174104_FP.json\n",
      "240815_192738_FP.json\n",
      "240815_195054_FP.json\n",
      "240816_010211_FP.json\n",
      "240816_010509_FP.json\n",
      "240816_014155_FP.json\n",
      "240816_081646_FP.json\n",
      "240816_134133_FP.json\n",
      "240816_143248_FP.json\n",
      "240816_155456_FP.json\n",
      "240816_174811_FP.json\n",
      "240816_183421_FP.json\n",
      "240816_184654_FP.json\n",
      "240816_193745_FP.json\n",
      "240817_011128_FP.json\n",
      "240817_100342_FP.json\n",
      "240817_141523_FP.json\n",
      "240817_162536_FP.json\n",
      "240817_173621_FP.json\n",
      "240817_180843_FP.json\n"
     ]
    }
   ],
   "source": [
    "# Get the current directory\n",
    "current_directory = os.getcwd()\n",
    "df = pd.DataFrame(columns=[\"ID\", \"Driver\", \"Best Lap\", \"Car Model\", \"file\"])\n",
    "\n",
    "# Iterate through files in the current directory\n",
    "for file_name in os.listdir(current_directory):\n",
    "    # Check if it's a file (and not a directory)\n",
    "    if file_name.endswith(\".json\"): \n",
    "        print(file_name)\n",
    "        with open(file_name, 'r', encoding='utf-16-le') as file:\n",
    "            data = json.load(file)\n",
    "\n",
    "        for player in data[\"sessionResult\"][\"leaderBoardLines\"]:\n",
    "            car = player[\"car\"]\n",
    "            car_model = car[\"carModel\"]\n",
    "            best_time = player[\"timing\"][\"bestLap\"]/1000\n",
    "            driver = car[\"drivers\"][0][\"lastName\"]\n",
    "            driver_ID = car[\"drivers\"][0][\"playerId\"]\n",
    "            \n",
    "            row = {\"ID\":driver_ID, \"Driver\":driver, \"Best Lap\": best_time, \"Car Model\": car_model, \"file\": file_name}\n",
    "            row = pd.DataFrame([row],index=[len(df)+1])\n",
    "            df = pd.concat([df,row])"
   ]
  },
  {
   "cell_type": "code",
   "execution_count": 65,
   "metadata": {},
   "outputs": [],
   "source": [
    "final = df.groupby('ID', group_keys=False).apply(lambda x: x.loc[x[\"Best Lap\"].idxmin()]).drop(columns=[\"ID\"]).sort_values(\"Best Lap\")"
   ]
  },
  {
   "cell_type": "code",
   "execution_count": 69,
   "metadata": {},
   "outputs": [],
   "source": [
    "final.to_excel(\"output.xlsx\")"
   ]
  }
 ],
 "metadata": {
  "kernelspec": {
   "display_name": "Python 3",
   "language": "python",
   "name": "python3"
  },
  "language_info": {
   "codemirror_mode": {
    "name": "ipython",
    "version": 3
   },
   "file_extension": ".py",
   "mimetype": "text/x-python",
   "name": "python",
   "nbconvert_exporter": "python",
   "pygments_lexer": "ipython3",
   "version": "3.10.11"
  }
 },
 "nbformat": 4,
 "nbformat_minor": 2
}
