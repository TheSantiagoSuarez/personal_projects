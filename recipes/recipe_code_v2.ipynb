{
 "cells": [
  {
   "cell_type": "code",
   "execution_count": 1,
   "id": "49b9a287",
   "metadata": {},
   "outputs": [
    {
     "name": "stdout",
     "output_type": "stream",
     "text": [
      "Title: \n",
      "Prep time:\n",
      "Cook time:\n",
      "Total time:\n",
      "\n",
      "Ingredients:\n",
      "- 3/4cupunsalted butter\n",
      "- 3/4cupDutch-process cocoa powder\n",
      "- 1 teaspoonvanilla extract\n",
      "- 1 3/4cuppackedlight brown sugar\n",
      "- 3large eggs\n",
      "- 3/4cupall-purpose flour\n",
      "- 1/2 teaspoonsalt\n",
      "- 1/2cupsemisweet orbittersweet chocolate chips(or chopped chocolate) (optional)\n",
      "\n",
      "Instructions:\n",
      "1. Preheat the oven to 350°F. Grease and line a8 x 8-inch panwithparchment paperon all sides and set aside.\n",
      "2. Place the butter in a smallsauce panand set over medium low heat. Low heat is key to an even, golden browning! Use a silicone spatula to stir and scrape the butter from the bottom and sides of the pan every 10 to 15 seconds. At first, the butter will melt and foam, then over time the foam bubbles will get smaller and the butter will begin to emit a warm, nutty aroma. Continue to cook the butter, occasionally stirring and scraping with your spatula, until the butter begins to take on color and you see small floating brown bits, about 10 to 15 minutes (these are the milk solids in your butter separating and toasting). Once the butter is golden brown, remove it from the heat.\n",
      "3. Add the cocoa powder and vanilla to the brown butter and whisk to combine until no lumps of cocoa remain.\n",
      "4. In astand mixerfit with the whisk attachment, beat the eggs and brown sugar together until light, fluffy and pale in color.\n",
      "5. Add the butter mixture to the egg mixture and use arubber spatulato fold together.\n",
      "6. Add the flour and the salt and fold the mixture until no streaks of flour remain. Last, fold in the chocolate chips, if using.\n",
      "7. Transfer mixture into prepared baking pan and bake for roughly 25 minutes, testing for doneness by inserting a knife into the center of the brownies beginning at 20 minutes. You’ll know they’re done when the edge is set, but a knife inserted into the middle still comes out with a bit of brownie batter on it. It might take up to 35 minutes for them to cook through depending on your oven!\n"
     ]
    }
   ],
   "source": [
    "import requests\n",
    "from bs4 import BeautifulSoup\n",
    "\n",
    "url = \"https://bromabakery.com/brown-butter-brownies/\"\n",
    "\n",
    "headers = {\n",
    "    'User-Agent': 'Mozilla/5.0 (Windows NT 10.0; Win64; x64)',\n",
    "    'Accept-Language': 'en-US,en;q=0.9'\n",
    "}\n",
    "\n",
    "response = requests.get(url, headers=headers)\n",
    "if response.status_code != 200:\n",
    "    print(\"Failed to retrieve page:\", response.status_code)\n",
    "    exit()\n",
    "\n",
    "soup = BeautifulSoup(response.text, 'html.parser')\n",
    "\n",
    "# Title\n",
    "title_tag = soup.find('h1')\n",
    "title = title_tag.get_text(strip=True) if title_tag else \"No title found\"\n",
    "print(\"Title:\", title)\n",
    "\n",
    "# Prep/Cook/Total times and Yield\n",
    "for info in ['Prep time:', 'Cook time:', 'Total time:', 'Yield:']:\n",
    "    el = soup.find(string=lambda text: text and text.startswith(info))\n",
    "    if el:\n",
    "        print(el.strip())\n",
    "\n",
    "# Ingredients\n",
    "print(\"\\nIngredients:\")\n",
    "ing_list = soup.find_all(lambda tag: tag.name == 'li' and tag.parent and 'Ingredients' in tag.parent.previous_sibling.get_text() if tag.parent.previous_sibling else False)\n",
    "if not ing_list:\n",
    "    # fallback: look under h3 \"Ingredients\" section\n",
    "    section = soup.find('h3', string=lambda t: t and 'Ingredients' in t)\n",
    "    ing_list = section.find_next('ul').find_all('li') if section else []\n",
    "for li in ing_list:\n",
    "    print(\"-\", li.get_text(strip=True))\n",
    "\n",
    "# Instructions\n",
    "print(\"\\nInstructions:\")\n",
    "inst_section = soup.find('h3', string=lambda t: t and 'Instructions' in t or 'How to make' in t)\n",
    "steps = []\n",
    "if inst_section:\n",
    "    for li in inst_section.find_next('ol').find_all('li'):\n",
    "        steps.append(li.get_text(strip=True))\n",
    "if not steps:\n",
    "    # fallback: after \"Instructions\" header find paragraphs\n",
    "    paras = soup.find_all('p')\n",
    "    # filter paragraphs that start with numbers like \"1.\"\n",
    "    steps = [p.get_text(strip=True) for p in paras if p.get_text(strip=True).startswith(tuple(str(i)+'.' for i in range(1,10)))]\n",
    "for i, step in enumerate(steps, 1):\n",
    "    print(f\"{i}. {step}\")\n"
   ]
  }
 ],
 "metadata": {
  "kernelspec": {
   "display_name": "uni_env (3.10.10)",
   "language": "python",
   "name": "python3"
  },
  "language_info": {
   "codemirror_mode": {
    "name": "ipython",
    "version": 3
   },
   "file_extension": ".py",
   "mimetype": "text/x-python",
   "name": "python",
   "nbconvert_exporter": "python",
   "pygments_lexer": "ipython3",
   "version": "3.10.10"
  }
 },
 "nbformat": 4,
 "nbformat_minor": 5
}
