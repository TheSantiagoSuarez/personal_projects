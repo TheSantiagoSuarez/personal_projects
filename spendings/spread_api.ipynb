{
 "cells": [
  {
   "cell_type": "code",
   "execution_count": 4,
   "metadata": {},
   "outputs": [
    {
     "name": "stdout",
     "output_type": "stream",
     "text": [
      "[['test']]\n"
     ]
    }
   ],
   "source": [
    "import gspread\n",
    "\n",
    "gc = gspread.service_account()\n",
    "\n",
    "sh = gc.open(\"Personal Finances\")\n",
    "\n",
    "print(sh.sheet1.get('A1'))"
   ]
  },
  {
   "cell_type": "code",
   "execution_count": 8,
   "metadata": {},
   "outputs": [
    {
     "data": {
      "text/plain": [
       "{'spreadsheetId': '1qVW6FhIsLqC5Xh36tngd8OpgUcEUWj6jy6Lf6eGjU_A',\n",
       " 'updates': {'spreadsheetId': '1qVW6FhIsLqC5Xh36tngd8OpgUcEUWj6jy6Lf6eGjU_A',\n",
       "  'updatedRange': \"'Raw Data'!A10:C10\",\n",
       "  'updatedRows': 1,\n",
       "  'updatedColumns': 3,\n",
       "  'updatedCells': 3}}"
      ]
     },
     "execution_count": 8,
     "metadata": {},
     "output_type": "execute_result"
    }
   ],
   "source": [
    "wks = sh.worksheet(\"Raw Data\")\n",
    "wks.insert_row([1,4,0], 10)"
   ]
  }
 ],
 "metadata": {
  "kernelspec": {
   "display_name": "uni_env",
   "language": "python",
   "name": "python3"
  },
  "language_info": {
   "codemirror_mode": {
    "name": "ipython",
    "version": 3
   },
   "file_extension": ".py",
   "mimetype": "text/x-python",
   "name": "python",
   "nbconvert_exporter": "python",
   "pygments_lexer": "ipython3",
   "version": "3.10.11"
  },
  "orig_nbformat": 4
 },
 "nbformat": 4,
 "nbformat_minor": 2
}
